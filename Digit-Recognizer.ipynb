{
 "cells": [
  {
   "cell_type": "code",
   "execution_count": 1,
   "metadata": {
    "_cell_guid": "b1076dfc-b9ad-4769-8c92-a6c4dae69d19",
    "_uuid": "8f2839f25d086af736a60e9eeb907d3b93b6e0e5",
    "execution": {
     "iopub.execute_input": "2020-11-05T23:20:35.915126Z",
     "iopub.status.busy": "2020-11-05T23:20:35.914205Z",
     "iopub.status.idle": "2020-11-05T23:20:35.919249Z",
     "shell.execute_reply": "2020-11-05T23:20:35.918440Z"
    },
    "papermill": {
     "duration": 0.025407,
     "end_time": "2020-11-05T23:20:35.919394",
     "exception": false,
     "start_time": "2020-11-05T23:20:35.893987",
     "status": "completed"
    },
    "tags": []
   },
   "outputs": [
    {
     "name": "stdout",
     "output_type": "stream",
     "text": [
      "/kaggle/input/digit-recognizer/sample_submission.csv\n",
      "/kaggle/input/digit-recognizer/test.csv\n",
      "/kaggle/input/digit-recognizer/train.csv\n"
     ]
    }
   ],
   "source": [
    "# This Python 3 environment comes with many helpful analytics libraries installed\n",
    "# It is defined by the kaggle/python Docker image: https://github.com/kaggle/docker-python\n",
    "# For example, here's several helpful packages to load\n",
    "\n",
    "import numpy as np # linear algebra\n",
    "import pandas as pd # data processing, CSV file I/O (e.g. pd.read_csv)\n",
    "\n",
    "# Input data files are available in the read-only \"../input/\" directory\n",
    "# For example, running this (by clicking run or pressing Shift+Enter) will list all files under the input directory\n",
    "\n",
    "import os\n",
    "for dirname, _, filenames in os.walk('/kaggle/input'):\n",
    "    for filename in filenames:\n",
    "        print(os.path.join(dirname, filename))\n",
    "\n",
    "# You can write up to 20GB to the current directory (/kaggle/working/) that gets preserved as output when you create a version using \"Save & Run All\" \n",
    "# You can also write temporary files to /kaggle/temp/, but they won't be saved outside of the current session"
   ]
  },
  {
   "cell_type": "code",
   "execution_count": 2,
   "metadata": {
    "_cell_guid": "79c7e3d0-c299-4dcb-8224-4455121ee9b0",
    "_uuid": "d629ff2d2480ee46fbb7e2d37f6b5fab8052498a",
    "execution": {
     "iopub.execute_input": "2020-11-05T23:20:35.957542Z",
     "iopub.status.busy": "2020-11-05T23:20:35.956755Z",
     "iopub.status.idle": "2020-11-05T23:20:42.407639Z",
     "shell.execute_reply": "2020-11-05T23:20:42.408386Z"
    },
    "papermill": {
     "duration": 6.475184,
     "end_time": "2020-11-05T23:20:42.408617",
     "exception": false,
     "start_time": "2020-11-05T23:20:35.933433",
     "status": "completed"
    },
    "tags": []
   },
   "outputs": [
    {
     "name": "stdout",
     "output_type": "stream",
     "text": [
      "TensorFlow Version:   2.3.1\n",
      "Keras Version:   2.4.0\n"
     ]
    }
   ],
   "source": [
    "import tensorflow as tf\n",
    "from tensorflow.keras import layers\n",
    "from tensorflow.keras.preprocessing.image import ImageDataGenerator\n",
    "import pandas as pd\n",
    "import numpy as np\n",
    "import seaborn as sns\n",
    "import matplotlib.pyplot as plt\n",
    "import matplotlib.image as img\n",
    "%matplotlib inline\n",
    "\n",
    "np.random.seed(2)\n",
    "\n",
    "from sklearn.model_selection import train_test_split\n",
    "from sklearn.metrics import confusion_matrix\n",
    "import itertools\n",
    "\n",
    "#Setting the Theme of the data visualizer Seaborn\n",
    "sns.set(style=\"dark\",context=\"notebook\",palette=\"muted\")\n",
    "\n",
    "print(\"TensorFlow Version:   \"+tf.version.VERSION)\n",
    "print(\"Keras Version:   \"+tf.keras.__version__)"
   ]
  },
  {
   "cell_type": "code",
   "execution_count": 3,
   "metadata": {
    "execution": {
     "iopub.execute_input": "2020-11-05T23:20:42.450105Z",
     "iopub.status.busy": "2020-11-05T23:20:42.449026Z",
     "iopub.status.idle": "2020-11-05T23:20:47.301233Z",
     "shell.execute_reply": "2020-11-05T23:20:47.300653Z"
    },
    "papermill": {
     "duration": 4.876462,
     "end_time": "2020-11-05T23:20:47.301364",
     "exception": false,
     "start_time": "2020-11-05T23:20:42.424902",
     "status": "completed"
    },
    "tags": []
   },
   "outputs": [],
   "source": [
    "train = pd.read_csv(\"../input/digit-recognizer/train.csv\")\n",
    "test = pd.read_csv(\"../input/digit-recognizer/test.csv\")"
   ]
  },
  {
   "cell_type": "code",
   "execution_count": 4,
   "metadata": {
    "execution": {
     "iopub.execute_input": "2020-11-05T23:20:47.336724Z",
     "iopub.status.busy": "2020-11-05T23:20:47.335507Z",
     "iopub.status.idle": "2020-11-05T23:20:47.732541Z",
     "shell.execute_reply": "2020-11-05T23:20:47.731882Z"
    },
    "papermill": {
     "duration": 0.41899,
     "end_time": "2020-11-05T23:20:47.732664",
     "exception": false,
     "start_time": "2020-11-05T23:20:47.313674",
     "status": "completed"
    },
    "tags": []
   },
   "outputs": [
    {
     "data": {
      "text/plain": [
       "1    4684\n",
       "7    4401\n",
       "3    4351\n",
       "9    4188\n",
       "2    4177\n",
       "6    4137\n",
       "0    4132\n",
       "4    4072\n",
       "8    4063\n",
       "5    3795\n",
       "Name: label, dtype: int64"
      ]
     },
     "execution_count": 4,
     "metadata": {},
     "output_type": "execute_result"
    },
    {
     "data": {
      "image/png": "[encoded data removed]",
      "text/plain": [
       "<Figure size 432x288 with 1 Axes>"
      ]
     },
     "metadata": {},
     "output_type": "display_data"
    }
   ],
   "source": [
    "Y_train = train['label']\n",
    "\n",
    "#Dropping Label Column\n",
    "X_train = train.drop(labels=['label'],axis=1)\n",
    "\n",
    "#free up some space\n",
    "del train\n",
    "\n",
    "graph = sns.countplot(Y_train)\n",
    " \n",
    "Y_train.value_counts()"
   ]
  },
  {
   "cell_type": "code",
   "execution_count": 5,
   "metadata": {
    "execution": {
     "iopub.execute_input": "2020-11-05T23:20:47.766561Z",
     "iopub.status.busy": "2020-11-05T23:20:47.765617Z",
     "iopub.status.idle": "2020-11-05T23:20:47.814886Z",
     "shell.execute_reply": "2020-11-05T23:20:47.814133Z"
    },
    "papermill": {
     "duration": 0.068997,
     "end_time": "2020-11-05T23:20:47.815029",
     "exception": false,
     "start_time": "2020-11-05T23:20:47.746032",
     "status": "completed"
    },
    "tags": []
   },
   "outputs": [
    {
     "data": {
      "text/plain": [
       "count       784\n",
       "unique        1\n",
       "top       False\n",
       "freq        784\n",
       "dtype: object"
      ]
     },
     "execution_count": 5,
     "metadata": {},
     "output_type": "execute_result"
    }
   ],
   "source": [
    "X_train.isnull().any().describe()\n",
    "\n",
    "test.isnull().any().describe()"
   ]
  },
  {
   "cell_type": "code",
   "execution_count": 6,
   "metadata": {
    "execution": {
     "iopub.execute_input": "2020-11-05T23:20:47.849946Z",
     "iopub.status.busy": "2020-11-05T23:20:47.849015Z",
     "iopub.status.idle": "2020-11-05T23:20:47.852968Z",
     "shell.execute_reply": "2020-11-05T23:20:47.852252Z"
    },
    "papermill": {
     "duration": 0.023292,
     "end_time": "2020-11-05T23:20:47.853140",
     "exception": false,
     "start_time": "2020-11-05T23:20:47.829848",
     "status": "completed"
    },
    "tags": []
   },
   "outputs": [
    {
     "name": "stdout",
     "output_type": "stream",
     "text": [
      "(42000, 784)\n",
      "(42000,)\n",
      "(28000, 784)\n"
     ]
    }
   ],
   "source": [
    "print (X_train.shape)\n",
    "print (Y_train.shape)\n",
    "print (test.shape)"
   ]
  },
  {
   "cell_type": "code",
   "execution_count": 7,
   "metadata": {
    "execution": {
     "iopub.execute_input": "2020-11-05T23:20:47.897889Z",
     "iopub.status.busy": "2020-11-05T23:20:47.896850Z",
     "iopub.status.idle": "2020-11-05T23:20:47.904399Z",
     "shell.execute_reply": "2020-11-05T23:20:47.903564Z"
    },
    "papermill": {
     "duration": 0.030682,
     "end_time": "2020-11-05T23:20:47.904855",
     "exception": false,
     "start_time": "2020-11-05T23:20:47.874173",
     "status": "completed"
    },
    "tags": []
   },
   "outputs": [
    {
     "name": "stdout",
     "output_type": "stream",
     "text": [
      "(42000, 10)\n"
     ]
    }
   ],
   "source": [
    "Y_train = tf.keras.utils.to_categorical(Y_train, num_classes=10)\n",
    "print (Y_train.shape)"
   ]
  },
  {
   "cell_type": "code",
   "execution_count": 8,
   "metadata": {
    "execution": {
     "iopub.execute_input": "2020-11-05T23:20:47.949990Z",
     "iopub.status.busy": "2020-11-05T23:20:47.948906Z",
     "iopub.status.idle": "2020-11-05T23:20:48.071276Z",
     "shell.execute_reply": "2020-11-05T23:20:48.072097Z"
    },
    "papermill": {
     "duration": 0.150361,
     "end_time": "2020-11-05T23:20:48.072272",
     "exception": false,
     "start_time": "2020-11-05T23:20:47.921911",
     "status": "completed"
    },
    "tags": []
   },
   "outputs": [],
   "source": [
    "X_train = X_train/255\n",
    "test = test/255\n",
    "\n",
    "X_train = X_train.values.reshape(-1,28,28,1)\n",
    "test = test.values.reshape(-1,28,28,1)"
   ]
  },
  {
   "cell_type": "code",
   "execution_count": 9,
   "metadata": {
    "execution": {
     "iopub.execute_input": "2020-11-05T23:20:48.118892Z",
     "iopub.status.busy": "2020-11-05T23:20:48.118035Z",
     "iopub.status.idle": "2020-11-05T23:20:48.817727Z",
     "shell.execute_reply": "2020-11-05T23:20:48.816944Z"
    },
    "papermill": {
     "duration": 0.728645,
     "end_time": "2020-11-05T23:20:48.817868",
     "exception": false,
     "start_time": "2020-11-05T23:20:48.089223",
     "status": "completed"
    },
    "tags": []
   },
   "outputs": [
    {
     "data": {
      "image/png": "[encoded data removed]",
      "text/plain": [
       "<Figure size 432x288 with 1 Axes>"
      ]
     },
     "metadata": {},
     "output_type": "display_data"
    }
   ],
   "source": [
    "#Spliting Train and test set\n",
    "random_seed =2\n",
    "\n",
    "X_train,X_val,Y_train,Y_val = train_test_split(X_train,Y_train,test_size=0.1,\n",
    "                                               random_state = random_seed)\n",
    "\n",
    "\n",
    "g = plt.imshow(X_train[2][:,:,0])"
   ]
  },
  {
   "cell_type": "code",
   "execution_count": 10,
   "metadata": {
    "execution": {
     "iopub.execute_input": "2020-11-05T23:20:48.857347Z",
     "iopub.status.busy": "2020-11-05T23:20:48.856462Z",
     "iopub.status.idle": "2020-11-05T23:20:48.859618Z",
     "shell.execute_reply": "2020-11-05T23:20:48.860355Z"
    },
    "papermill": {
     "duration": 0.025201,
     "end_time": "2020-11-05T23:20:48.860542",
     "exception": false,
     "start_time": "2020-11-05T23:20:48.835341",
     "status": "completed"
    },
    "tags": []
   },
   "outputs": [
    {
     "name": "stdout",
     "output_type": "stream",
     "text": [
      "(37800, 28, 28, 1)\n",
      "(37800, 10)\n",
      "(28000, 28, 28, 1)\n"
     ]
    }
   ],
   "source": [
    "print (X_train.shape)\n",
    "print (Y_train.shape)\n",
    "print (test.shape)"
   ]
  },
  {
   "cell_type": "code",
   "execution_count": 11,
   "metadata": {
    "execution": {
     "iopub.execute_input": "2020-11-05T23:20:48.907632Z",
     "iopub.status.busy": "2020-11-05T23:20:48.906770Z",
     "iopub.status.idle": "2020-11-05T23:20:49.114258Z",
     "shell.execute_reply": "2020-11-05T23:20:49.113581Z"
    },
    "papermill": {
     "duration": 0.238382,
     "end_time": "2020-11-05T23:20:49.114369",
     "exception": false,
     "start_time": "2020-11-05T23:20:48.875987",
     "status": "completed"
    },
    "tags": []
   },
   "outputs": [],
   "source": [
    "model = tf.keras.Sequential()\n",
    "\n",
    "model.add(layers.Conv2D(filters=32, kernel_size=(5,5), padding='Same', activation=tf.nn.relu, input_shape = (28,28,1)))\n",
    "model.add(layers.Conv2D(filters=32, kernel_size=(5,5), padding='Same', activation=tf.nn.relu))\n",
    "model.add(layers.MaxPool2D(pool_size=(2,2)))\n",
    "model.add(layers.Dropout(0.25))\n",
    "\n",
    "model.add(layers.Conv2D(filters=64, kernel_size=(3,3), padding='Same', activation=tf.nn.relu, input_shape = (28,28,1)))\n",
    "model.add(layers.Conv2D(filters=64, kernel_size=(3,3), padding='Same', activation=tf.nn.relu))\n",
    "model.add(layers.MaxPool2D(pool_size=(2,2),strides=(2,2)))\n",
    "model.add(layers.Dropout(0.25))\n",
    "\n",
    "model.add(layers.Flatten())\n",
    "model.add(layers.Dense(256,activation=tf.nn.relu))\n",
    "model.add(layers.Dropout(0.25))\n",
    "model.add(layers.Dense(10,activation=tf.nn.softmax))"
   ]
  },
  {
   "cell_type": "code",
   "execution_count": 12,
   "metadata": {
    "execution": {
     "iopub.execute_input": "2020-11-05T23:20:49.154751Z",
     "iopub.status.busy": "2020-11-05T23:20:49.154021Z",
     "iopub.status.idle": "2020-11-05T23:20:49.159592Z",
     "shell.execute_reply": "2020-11-05T23:20:49.160274Z"
    },
    "papermill": {
     "duration": 0.030466,
     "end_time": "2020-11-05T23:20:49.160505",
     "exception": false,
     "start_time": "2020-11-05T23:20:49.130039",
     "status": "completed"
    },
    "tags": []
   },
   "outputs": [
    {
     "name": "stdout",
     "output_type": "stream",
     "text": [
      "Model: \"sequential\"\n",
      "_________________________________________________________________\n",
      "Layer (type)                 Output Shape              Param #   \n",
      "=================================================================\n",
      "conv2d (Conv2D)              (None, 28, 28, 32)        832       \n",
      "_________________________________________________________________\n",
      "conv2d_1 (Conv2D)            (None, 28, 28, 32)        25632     \n",
      "_________________________________________________________________\n",
      "max_pooling2d (MaxPooling2D) (None, 14, 14, 32)        0         \n",
      "_________________________________________________________________\n",
      "dropout (Dropout)            (None, 14, 14, 32)        0         \n",
      "_________________________________________________________________\n",
      "conv2d_2 (Conv2D)            (None, 14, 14, 64)        18496     \n",
      "_________________________________________________________________\n",
      "conv2d_3 (Conv2D)            (None, 14, 14, 64)        36928     \n",
      "_________________________________________________________________\n",
      "max_pooling2d_1 (MaxPooling2 (None, 7, 7, 64)          0         \n",
      "_________________________________________________________________\n",
      "dropout_1 (Dropout)          (None, 7, 7, 64)          0         \n",
      "_________________________________________________________________\n",
      "flatten (Flatten)            (None, 3136)              0         \n",
      "_________________________________________________________________\n",
      "dense (Dense)                (None, 256)               803072    \n",
      "_________________________________________________________________\n",
      "dropout_2 (Dropout)          (None, 256)               0         \n",
      "_________________________________________________________________\n",
      "dense_1 (Dense)              (None, 10)                2570      \n",
      "=================================================================\n",
      "Total params: 887,530\n",
      "Trainable params: 887,530\n",
      "Non-trainable params: 0\n",
      "_________________________________________________________________\n"
     ]
    }
   ],
   "source": [
    "model.summary()"
   ]
  },
  {
   "cell_type": "code",
   "execution_count": 13,
   "metadata": {
    "execution": {
     "iopub.execute_input": "2020-11-05T23:20:49.209335Z",
     "iopub.status.busy": "2020-11-05T23:20:49.208551Z",
     "iopub.status.idle": "2020-11-05T23:20:49.215399Z",
     "shell.execute_reply": "2020-11-05T23:20:49.214655Z"
    },
    "papermill": {
     "duration": 0.037762,
     "end_time": "2020-11-05T23:20:49.215544",
     "exception": false,
     "start_time": "2020-11-05T23:20:49.177782",
     "status": "completed"
    },
    "tags": []
   },
   "outputs": [],
   "source": [
    "optimizer = tf.keras.optimizers.RMSprop(lr=0.001, rho=0.9, epsilon=1e-08, decay=0.0)\n",
    "\n",
    "model.compile(optimizer = optimizer, loss='categorical_crossentropy', metrics=[\"accuracy\"])\n",
    "\n",
    "learning_rate_reduction = tf.keras.callbacks.ReduceLROnPlateau(monitor='val_acc',\n",
    "                                                               patience=3,\n",
    "                                                               verbose=1,\n",
    "                                                               factor=0.5,\n",
    "                                                               min_lr=0.00001)\n"
   ]
  },
  {
   "cell_type": "code",
   "execution_count": 14,
   "metadata": {
    "execution": {
     "iopub.execute_input": "2020-11-05T23:20:49.257036Z",
     "iopub.status.busy": "2020-11-05T23:20:49.256157Z",
     "iopub.status.idle": "2020-11-05T23:23:02.969767Z",
     "shell.execute_reply": "2020-11-05T23:23:02.970700Z"
    },
    "papermill": {
     "duration": 133.739037,
     "end_time": "2020-11-05T23:23:02.970953",
     "exception": false,
     "start_time": "2020-11-05T23:20:49.231916",
     "status": "completed"
    },
    "tags": []
   },
   "outputs": [
    {
     "name": "stdout",
     "output_type": "stream",
     "text": [
      "337/337 - 132s - loss: 0.2397 - accuracy: 0.9231 - val_loss: 0.0675 - val_accuracy: 0.9776\n"
     ]
    }
   ],
   "source": [
    "epochs=1\n",
    "batch_size = 112\n",
    "\n",
    "history = model.fit(X_train,Y_train, \n",
    "                    batch_size=batch_size,\n",
    "                    epochs = epochs, \n",
    "                    validation_data = (X_val,Y_val),\n",
    "                    verbose = 2, steps_per_epoch=X_train.shape[0] // batch_size,\n",
    "                    callbacks=[learning_rate_reduction])"
   ]
  },
  {
   "cell_type": "code",
   "execution_count": 15,
   "metadata": {
    "execution": {
     "iopub.execute_input": "2020-11-05T23:23:03.014464Z",
     "iopub.status.busy": "2020-11-05T23:23:03.012944Z",
     "iopub.status.idle": "2020-11-05T23:23:23.533767Z",
     "shell.execute_reply": "2020-11-05T23:23:23.533172Z"
    },
    "papermill": {
     "duration": 20.544503,
     "end_time": "2020-11-05T23:23:23.533881",
     "exception": false,
     "start_time": "2020-11-05T23:23:02.989378",
     "status": "completed"
    },
    "tags": []
   },
   "outputs": [],
   "source": [
    "# predict results\n",
    "results = model.predict(test)\n",
    "\n",
    "# select the indix with the maximum probability\n",
    "results = np.argmax(results,axis = 1)\n",
    "\n",
    "results = pd.Series(results,name=\"Label\")"
   ]
  },
  {
   "cell_type": "code",
   "execution_count": 16,
   "metadata": {
    "execution": {
     "iopub.execute_input": "2020-11-05T23:23:23.572543Z",
     "iopub.status.busy": "2020-11-05T23:23:23.571736Z",
     "iopub.status.idle": "2020-11-05T23:23:23.576804Z",
     "shell.execute_reply": "2020-11-05T23:23:23.576040Z"
    },
    "papermill": {
     "duration": 0.026813,
     "end_time": "2020-11-05T23:23:23.576968",
     "exception": false,
     "start_time": "2020-11-05T23:23:23.550155",
     "status": "completed"
    },
    "tags": []
   },
   "outputs": [
    {
     "name": "stdout",
     "output_type": "stream",
     "text": [
      "0        2\n",
      "1        0\n",
      "2        9\n",
      "3        9\n",
      "4        3\n",
      "        ..\n",
      "27995    9\n",
      "27996    7\n",
      "27997    3\n",
      "27998    9\n",
      "27999    2\n",
      "Name: Label, Length: 28000, dtype: int64\n"
     ]
    }
   ],
   "source": [
    "print (results)"
   ]
  },
  {
   "cell_type": "code",
   "execution_count": 17,
   "metadata": {
    "execution": {
     "iopub.execute_input": "2020-11-05T23:23:23.619710Z",
     "iopub.status.busy": "2020-11-05T23:23:23.616294Z",
     "iopub.status.idle": "2020-11-05T23:23:23.846391Z",
     "shell.execute_reply": "2020-11-05T23:23:23.845752Z"
    },
    "papermill": {
     "duration": 0.252128,
     "end_time": "2020-11-05T23:23:23.846504",
     "exception": false,
     "start_time": "2020-11-05T23:23:23.594376",
     "status": "completed"
    },
    "tags": []
   },
   "outputs": [
    {
     "data": {
      "text/plain": [
       "<matplotlib.image.AxesImage at 0x7fa320ac6650>"
      ]
     },
     "execution_count": 17,
     "metadata": {},
     "output_type": "execute_result"
    },
    {
     "data": {
      "image/png": "[encoded data removed]",
      "text/plain": [
       "<Figure size 432x288 with 1 Axes>"
      ]
     },
     "metadata": {},
     "output_type": "display_data"
    }
   ],
   "source": [
    "plt.imshow(test[4][:,:,0])"
   ]
  },
  {
   "cell_type": "code",
   "execution_count": 18,
   "metadata": {
    "execution": {
     "iopub.execute_input": "2020-11-05T23:23:23.888356Z",
     "iopub.status.busy": "2020-11-05T23:23:23.887723Z",
     "iopub.status.idle": "2020-11-05T23:23:24.128478Z",
     "shell.execute_reply": "2020-11-05T23:23:24.127875Z"
    },
    "papermill": {
     "duration": 0.264689,
     "end_time": "2020-11-05T23:23:24.128653",
     "exception": false,
     "start_time": "2020-11-05T23:23:23.863964",
     "status": "completed"
    },
    "tags": []
   },
   "outputs": [],
   "source": [
    "submission = pd.concat([pd.Series(range(1,28001),name = \"ImageId\"),results],axis = 1)\n",
    "\n",
    "submission.to_csv(\"cnn_mnist_datagen.csv\",index=False)"
   ]
  },
  {
   "cell_type": "code",
   "execution_count": null,
   "metadata": {
    "papermill": {
     "duration": 0.018289,
     "end_time": "2020-11-05T23:23:24.164851",
     "exception": false,
     "start_time": "2020-11-05T23:23:24.146562",
     "status": "completed"
    },
    "tags": []
   },
   "outputs": [],
   "source": []
  }
 ],
 "metadata": {
  "kernelspec": {
   "display_name": "Python 3",
   "language": "python",
   "name": "python3"
  },
  "language_info": {
   "codemirror_mode": {
    "name": "ipython",
    "version": 3
   },
   "file_extension": ".py",
   "mimetype": "text/x-python",
   "name": "python",
   "nbconvert_exporter": "python",
   "pygments_lexer": "ipython3",
   "version": "3.7.6"
  },
  "papermill": {
   "duration": 172.627021,
   "end_time": "2020-11-05T23:23:24.291075",
   "environment_variables": {},
   "exception": null,
   "input_path": "__notebook__.ipynb",
   "output_path": "__notebook__.ipynb",
   "parameters": {},
   "start_time": "2020-11-05T23:20:31.664054",
   "version": "2.1.0"
  }
 },
 "nbformat": 4,
 "nbformat_minor": 4
}
